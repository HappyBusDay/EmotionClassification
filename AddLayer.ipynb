{
  "nbformat": 4,
  "nbformat_minor": 0,
  "metadata": {
    "colab": {
      "provenance": []
    },
    "kernelspec": {
      "name": "python3",
      "display_name": "Python 3"
    },
    "language_info": {
      "name": "python"
    }
  },
  "cells": [
    {
      "cell_type": "code",
      "source": [
        "!pip install transformers"
      ],
      "metadata": {
        "id": "JLSnx9G5d3-v"
      },
      "execution_count": null,
      "outputs": []
    },
    {
      "cell_type": "code",
      "source": [
        "import pandas as pd\n",
        "import numpy as np\n",
        "from sklearn.metrics import f1_score\n",
        "from sklearn.preprocessing import LabelEncoder\n",
        "import random\n",
        "import os\n",
        "\n",
        "import torch\n",
        "from torch import nn\n",
        "import torch.nn.functional as F\n",
        "from torch.utils.data import DataLoader, Dataset\n",
        "from tqdm.notebook import tqdm\n",
        "from transformers import AutoTokenizer\n",
        "from transformers import AutoModel\n",
        "from torch.optim import AdamW\n",
        "import torch.optim as optim\n",
        "\n",
        "import warnings\n",
        "warnings.filterwarnings(action='ignore')"
      ],
      "metadata": {
        "id": "SO3URf7Zd3NZ"
      },
      "execution_count": null,
      "outputs": []
    },
    {
      "cell_type": "code",
      "execution_count": null,
      "metadata": {
        "id": "BaaShB8vdrUe"
      },
      "outputs": [],
      "source": [
        "class BaseModel_AddLayer(nn.Module):\n",
        "\n",
        "    def __init__(self, dropout=0.5, num_classes=len(le.classes_)):\n",
        "\n",
        "        super(BaseModel, self).__init__()\n",
        "\n",
        "        self.bert = AutoModel.from_pretrained('tae898/emoberta-base')\n",
        "        self.dropout = nn.Dropout(dropout)\n",
        "        self.linear1 = nn.Linear(768, 384)\n",
        "        self.linear2 = nn.Linear(384, num_classes)\n",
        "        self.gelu = nn.GELU()\n",
        "\n",
        "    def forward(self, input_id, mask):\n",
        "        _, pooled_output = self.bert(input_ids= input_id, attention_mask=mask,return_dict=False)\n",
        "        dropout_output = self.dropout(pooled_output)\n",
        "        linear_output = self.linear1(dropout_output)\n",
        "        linear_output = self.linear2(linear_output)\n",
        "        final_layer = self.gelu(linear_output)\n",
        "\n",
        "        return final_layer"
      ]
    }
  ]
}