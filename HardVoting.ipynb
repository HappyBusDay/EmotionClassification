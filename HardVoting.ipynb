{
  "nbformat": 4,
  "nbformat_minor": 0,
  "metadata": {
    "colab": {
      "provenance": []
    },
    "kernelspec": {
      "name": "python3",
      "display_name": "Python 3"
    },
    "language_info": {
      "name": "python"
    }
  },
  "cells": [
    {
      "cell_type": "code",
      "execution_count": null,
      "metadata": {
        "id": "j4fQsjrjih8p"
      },
      "outputs": [],
      "source": [
        "def HardVoting(inference1, inference2, inference3) :\n",
        "\n",
        "    dic_tmp = {'ID' : [], 'Target' : []}\n",
        "\n",
        "    for i in range(len(Test)) :\n",
        "        tmp = []\n",
        "        tmp.append(inference1['Target'][i])\n",
        "        tmp.append(inference2['Target'][i])\n",
        "        tmp.append(inference3['Target'][i])\n",
        "\n",
        "        dic_tmp['ID'].append(inference1['ID'][i])\n",
        "        dic_tmp['Target'].append(Counter(tmp).most_common(n=1)[0][0])\n",
        "\n",
        "    pd.DataFrame(dic_tmp).to_csv('Ensemble.csv', encoding = 'utf-8', index = False)\n",
        "\n",
        "    return pd.DataFrame(dic_tmp)"
      ]
    }
  ]
}