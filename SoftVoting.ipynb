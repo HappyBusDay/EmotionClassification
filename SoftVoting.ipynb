{
  "nbformat": 4,
  "nbformat_minor": 0,
  "metadata": {
    "colab": {
      "provenance": []
    },
    "kernelspec": {
      "name": "python3",
      "display_name": "Python 3"
    },
    "language_info": {
      "name": "python"
    }
  },
  "cells": [
    {
      "cell_type": "code",
      "execution_count": null,
      "metadata": {
        "id": "tXsqdrt0h3Qn"
      },
      "outputs": [],
      "source": [
        "model_path1 = ''\n",
        "model_path2 = ''\n",
        "model_path3 = ''\n",
        "model_path4 = ''"
      ]
    },
    {
      "cell_type": "code",
      "source": [
        "model1 = BaseModel()\n",
        "model2 = BaseModel()\n",
        "model3 = BaseModel()\n",
        "model4 = BaseModel()"
      ],
      "metadata": {
        "id": "Un2txYxhiWJV"
      },
      "execution_count": null,
      "outputs": []
    },
    {
      "cell_type": "code",
      "source": [
        "model1.load_state_dict(torch.load(model_path1))\n",
        "model2.load_state_dict(torch.load(model_path2))\n",
        "model3.load_state_dict(torch.load(model_path3))\n",
        "model4.load_state_dict(torch.load(model_path4))"
      ],
      "metadata": {
        "id": "G3wBcGsTiGBV"
      },
      "execution_count": null,
      "outputs": []
    },
    {
      "cell_type": "code",
      "source": [
        "def SoftVoting(model1, model2, model3, model4, test_loader, device):\n",
        "\n",
        "    model1.to(device)\n",
        "    model1.eval()\n",
        "\n",
        "    model2.to(device)\n",
        "    model2.eval()\n",
        "\n",
        "    model3.to(device)\n",
        "    model3.eval()\n",
        "\n",
        "    model4.to(device)\n",
        "    model4.eval()\n",
        "\n",
        "    test_predict = []\n",
        "\n",
        "    for input_ids, attention_mask in tqdm(test_loader):\n",
        "\n",
        "        input_id = input_ids.to(device)\n",
        "        mask = attention_mask.to(device)\n",
        "\n",
        "        y_pred1 = model1(input_id, mask)\n",
        "        y_pred2 = model2(input_id, mask)\n",
        "        y_pred3 = model3(input_id, mask)\n",
        "        y_pred4 = model4(input_id, mask)\n",
        "\n",
        "        test_predict += ((y_pred1 + y_pred2 + y_pred3 + y_pred4 )/4).argmax(1).detach().cpu().numpy().tolist()\n",
        "\n",
        "    print('Done.')\n",
        "    return test_predict"
      ],
      "metadata": {
        "id": "MLg-eFyriK9E"
      },
      "execution_count": null,
      "outputs": []
    }
  ]
}