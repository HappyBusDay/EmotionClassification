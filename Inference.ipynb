{
  "nbformat": 4,
  "nbformat_minor": 0,
  "metadata": {
    "colab": {
      "provenance": []
    },
    "kernelspec": {
      "name": "python3",
      "display_name": "Python 3"
    },
    "language_info": {
      "name": "python"
    }
  },
  "cells": [
    {
      "cell_type": "code",
      "execution_count": null,
      "metadata": {
        "id": "mrdAiX2ngneT"
      },
      "outputs": [],
      "source": [
        "!pip install transformers"
      ]
    },
    {
      "cell_type": "code",
      "source": [
        "import pandas as pd\n",
        "import numpy as np\n",
        "from sklearn.metrics import f1_score\n",
        "from sklearn.preprocessing import LabelEncoder\n",
        "import random\n",
        "import os\n",
        "\n",
        "import torch\n",
        "from torch import nn\n",
        "import torch.nn.functional as F\n",
        "from torch.utils.data import DataLoader, Dataset\n",
        "from tqdm.notebook import tqdm\n",
        "from transformers import AutoTokenizer\n",
        "from transformers import AutoModel\n",
        "from torch.optim import AdamW\n",
        "import torch.optim as optim\n",
        "\n",
        "import warnings\n",
        "warnings.filterwarnings(action='ignore')"
      ],
      "metadata": {
        "id": "DNoXK83ggtX3"
      },
      "execution_count": null,
      "outputs": []
    },
    {
      "cell_type": "markdown",
      "metadata": {
        "id": "CnMKAC2AZBJu"
      },
      "source": [
        "## Inference"
      ]
    },
    {
      "cell_type": "code",
      "execution_count": null,
      "metadata": {
        "id": "YQlIB9VJhN1A"
      },
      "outputs": [],
      "source": [
        "test = pd.read_csv(test_data_path)"
      ]
    },
    {
      "cell_type": "code",
      "execution_count": null,
      "metadata": {
        "id": "eHNjYWdAZSyC"
      },
      "outputs": [],
      "source": [
        "test = CustomDataset(test, mode = \"test\")\n",
        "test_dataloader = torch.utils.data.DataLoader(test, batch_size = CFG['BATCH_SIZE'], shuffle=False)"
      ]
    },
    {
      "cell_type": "code",
      "execution_count": null,
      "metadata": {
        "id": "74qkHFnDHEvt"
      },
      "outputs": [],
      "source": [
        "model = BaseModel()"
      ]
    },
    {
      "cell_type": "code",
      "execution_count": null,
      "metadata": {
        "id": "9JMVG6hN7g12"
      },
      "outputs": [],
      "source": [
        "model_path = ''"
      ]
    },
    {
      "cell_type": "code",
      "execution_count": null,
      "metadata": {
        "id": "ZgBabuaUS-YF"
      },
      "outputs": [],
      "source": [
        "model.load_state_dict(torch.load(model_path))"
      ]
    },
    {
      "cell_type": "code",
      "execution_count": null,
      "metadata": {
        "id": "3QE1wphCZS0p"
      },
      "outputs": [],
      "source": [
        "def inference(model, test_loader, device):\n",
        "    model.load_state_dict(torch.load(model_path))\n",
        "    model.to(device)\n",
        "    model.eval()\n",
        "    \n",
        "    test_predict = []\n",
        "    for input_ids, attention_mask in tqdm(test_loader):\n",
        "        input_id = input_ids.to(device)\n",
        "        mask = attention_mask.to(device)\n",
        "        y_pred = model(input_id, mask)\n",
        "        test_predict += y_pred.argmax(1).detach().cpu().numpy().tolist()\n",
        "    print('Done.')\n",
        "    return test_predict"
      ]
    },
    {
      "cell_type": "code",
      "execution_count": null,
      "metadata": {
        "id": "pd79nHhsZS3I"
      },
      "outputs": [],
      "source": [
        "preds = inference(model, test_dataloader, device)"
      ]
    },
    {
      "cell_type": "code",
      "execution_count": null,
      "metadata": {
        "id": "cQ2S49-IlLSi"
      },
      "outputs": [],
      "source": [
        "preds = le.inverse_transform(preds) "
      ]
    },
    {
      "cell_type": "markdown",
      "metadata": {
        "id": "vcWQHa_GZ4jz"
      },
      "source": [
        "## Submit"
      ]
    },
    {
      "cell_type": "code",
      "execution_count": null,
      "metadata": {
        "id": "VcwcJY4wZS8U"
      },
      "outputs": [],
      "source": [
        "submit = pd.read_csv('')\n",
        "submit['Target'] = preds\n",
        "submit.to_csv('./submit.csv', index=False)"
      ]
    }
  ]
}